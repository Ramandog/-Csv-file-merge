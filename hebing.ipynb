{
 "cells": [
  {
   "cell_type": "code",
   "execution_count": 1,
   "metadata": {},
   "outputs": [
    {
     "data": {
      "text/plain": [
       "['ch_0_20230506112224.csv',\n",
       " 'ch_0_20230506112319.csv',\n",
       " 'ch_0_20230506112420.csv',\n",
       " 'ch_0_20230506112515.csv',\n",
       " 'ch_0_20230506112616.csv',\n",
       " 'ch_0_20230506112711.csv',\n",
       " 'ch_0_20230506112812.csv',\n",
       " 'ch_0_20230506112907.csv']"
      ]
     },
     "execution_count": 1,
     "metadata": {},
     "output_type": "execute_result"
    }
   ],
   "source": [
    "import glob\n",
    "csv_list = glob.glob(\"*.csv\")\n",
    "csv_list"
   ]
  },
  {
   "cell_type": "code",
   "execution_count": 74,
   "metadata": {},
   "outputs": [],
   "source": [
    "import numpy as np\n",
    "\n",
    "Wavenumber = np.loadtxt(csv_list[0], skiprows=11,dtype=str, delimiter=',', max_rows=1)[1:]\n",
    "Scores = np.append(np.array(['Time', 'Temperature', 'Current', 'Power']),Wavenumber).reshape(1, -1)\n",
    "\n",
    "for i in range(len(csv_list)):\n",
    "    #skiprows变量为截取开始的位置\n",
    "    time = csv_list[i].split('_')[2].split(\".\")[0]\n",
    "    scores = np.loadtxt(csv_list[i],  skiprows=14,dtype=str, delimiter=',')[1:]\n",
    "    temperature = np.loadtxt(csv_list[i],  skiprows=7,dtype=str, delimiter=',',max_rows=1)[1]\n",
    "    current = np.loadtxt(csv_list[i],  skiprows=8,dtype=str, delimiter=',',max_rows=1)[1] \n",
    "    power = np.loadtxt(csv_list[i],  skiprows=8,dtype=str, delimiter=',',max_rows=1)[3]\n",
    "    spc = np.loadtxt(csv_list[i],  skiprows=14,dtype=str, delimiter=',')[1:]\n",
    "    scores = np.append(np.array([time, temperature, current, power]),spc).reshape(1, -1)\n",
    "    Scores = np.append(Scores,scores,axis=0)"
   ]
  },
  {
   "cell_type": "code",
   "execution_count": 75,
   "metadata": {},
   "outputs": [],
   "source": [
    "np.savetxt((csv_list[0].split('_')[2]).split(\".\")[0]+'.csv',Scores, delimiter=\",\", comments=\"\", fmt='%s')"
   ]
  },
  {
   "cell_type": "code",
   "execution_count": null,
   "metadata": {},
   "outputs": [],
   "source": []
  }
 ],
 "metadata": {
  "kernelspec": {
   "display_name": "test1",
   "language": "python",
   "name": "python3"
  },
  "language_info": {
   "codemirror_mode": {
    "name": "ipython",
    "version": 3
   },
   "file_extension": ".py",
   "mimetype": "text/x-python",
   "name": "python",
   "nbconvert_exporter": "python",
   "pygments_lexer": "ipython3",
   "version": "3.6.8"
  },
  "orig_nbformat": 4
 },
 "nbformat": 4,
 "nbformat_minor": 2
}
