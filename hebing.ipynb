{
 "cells": [
  {
   "cell_type": "code",
   "execution_count": 1,
   "metadata": {},
   "outputs": [],
   "source": [
    "import glob\n",
    "csv_list = glob.glob(\"*.csv\")\n"
   ]
  },
  {
   "cell_type": "code",
   "execution_count": 2,
   "metadata": {},
   "outputs": [],
   "source": [
    "import numpy as np\n",
    "\n",
    "Scores = np.loadtxt(csv_list[0],  skiprows=11,dtype=str, delimiter=',')[0]\n",
    "\n",
    "for i in range(len(csv_list)):\n",
    "    #skiprows变量为截取开始的位置\n",
    "    scores = np.append((csv_list[i].split('_')[1]).split(\".\")[0],np.loadtxt(csv_list[i],  skiprows=12,dtype=str, delimiter=',')[1:]).reshape(1,-1)\n",
    "    Scores = np.append(Scores,scores,axis=0)\n"
   ]
  },
  {
   "cell_type": "code",
   "execution_count": 3,
   "metadata": {},
   "outputs": [],
   "source": [
    "np.savetxt((csv_list[i].split('_')[1]).split(\".\")[0]+'.csv',Scores, delimiter=\",\", comments=\"\", fmt='%s')"
   ]
  },
  {
   "cell_type": "code",
   "execution_count": null,
   "metadata": {},
   "outputs": [],
   "source": []
  }
 ],
 "metadata": {
  "kernelspec": {
   "display_name": "test1",
   "language": "python",
   "name": "python3"
  },
  "language_info": {
   "codemirror_mode": {
    "name": "ipython",
    "version": 3
   },
   "file_extension": ".py",
   "mimetype": "text/x-python",
   "name": "python",
   "nbconvert_exporter": "python",
   "pygments_lexer": "ipython3",
   "version": "3.6.8 |Anaconda, Inc.| (default, Feb 21 2019, 18:30:04) [MSC v.1916 64 bit (AMD64)]"
  },
  "orig_nbformat": 4,
  "vscode": {
   "interpreter": {
    "hash": "0ae8c2cd28a43c86529b59736606c5b74b1fe65e2a9feb14a9226ea5725c715f"
   }
  }
 },
 "nbformat": 4,
 "nbformat_minor": 2
}
